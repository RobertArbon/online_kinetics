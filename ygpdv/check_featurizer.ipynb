{
 "cells": [
  {
   "cell_type": "code",
   "execution_count": 13,
   "metadata": {},
   "outputs": [],
   "source": [
    "from pathlib import Path\n",
    "import mdtraj as md\n",
    "from celerity.dataloader import TrajectoryDataset, DataLoader\n",
    "from celerity.featurizer import Dihedrals\n",
    "import h5py\n",
    "import numpy as np"
   ]
  },
  {
   "cell_type": "code",
   "execution_count": 2,
   "metadata": {},
   "outputs": [],
   "source": [
    "data_dir = '/home/mbowley/ANI-Peptides/outputs/production_ypgdv_capped_amber_equilibrated_amber_004427_010322'\n",
    "out_dir = 'data'\n",
    "top_path = f'{data_dir}/topology.pdb'\n",
    "traj_file = Path(data_dir).joinpath('trajectory.dcd')\n",
    "new_traj_file = Path(out_dir).joinpath(traj_file.with_suffix('.h5').name)"
   ]
  },
  {
   "cell_type": "code",
   "execution_count": 3,
   "metadata": {},
   "outputs": [],
   "source": [
    "# assert not new_traj_file.exists()\n",
    "# !mdconvert {str(traj_file)} -t {top_path} -c 10000 -o {str(new_traj_file)}"
   ]
  },
  {
   "cell_type": "code",
   "execution_count": 12,
   "metadata": {},
   "outputs": [
    {
     "name": "stdout",
     "output_type": "stream",
     "text": [
      "dcdplugin) Warning: DCD header claims 2817650 frames, file size indicates there are actually 2818269 frames\n",
      "['xyz', 'cell_lengths', 'cell_angles', 'topology']\n",
      "converted 1000 frames, 82 atoms \n"
     ]
    }
   ],
   "source": [
    "!mdconvert {str(traj_file)} -t {top_path} -i 0:1000 -o data/frames_1000.h5 "
   ]
  },
  {
   "cell_type": "code",
   "execution_count": 7,
   "metadata": {},
   "outputs": [],
   "source": [
    "transform = Dihedrals(dict(topology_path = f'{data_dir}/topology.pdb', \n",
    "                           which=['phi', 'psi','chi1', 'chi2', 'chi3', 'chi4', 'chi5'], \n",
    "                           coosin=True))\n",
    "dataset = TrajectoryDataset(dict(traj_paths_pattern=str(new_traj_file), \n",
    "                                 stride=1))\n",
    "loader = DataLoader(dict(batch_size=1000, \n",
    "                         transform=transform, \n",
    "                         dataset=dataset)) "
   ]
  },
  {
   "cell_type": "code",
   "execution_count": 21,
   "metadata": {},
   "outputs": [
    {
     "name": "stdout",
     "output_type": "stream",
     "text": [
      "(1000, 5)\n",
      "(1000, 5)\n",
      "(1000, 4)\n",
      "(1000, 3)\n",
      "(1000, 0)\n",
      "(1000, 0)\n",
      "(1000, 0)\n"
     ]
    },
    {
     "name": "stderr",
     "output_type": "stream",
     "text": [
      "/home/rarbon/micromamba/envs/pytorch/lib/python3.9/site-packages/mdtraj/core/trajectory.py:438: UserWarning: top= kwargs ignored since this file parser does not support it\n",
      "  warnings.warn('top= kwargs ignored since this file parser does not support it')\n"
     ]
    }
   ],
   "source": [
    "# Check the loader works \n",
    "\n",
    "for chunk in loader: \n",
    "    x = chunk\n",
    "    break\n",
    "\n",
    "traj = md.load('data/frames_1000.h5')\n",
    "features = []\n",
    "for att in transform.options.which: \n",
    "    _, vals = getattr(md, f'compute_{att}')(traj)\n",
    "    print(vals.shape)\n",
    "    features.append(vals)\n",
    "features = np.concatenate(features, axis=1)\n",
    "features = np.concatenate([np.cos(features), np.sin(features)], axis=1)\n",
    "assert np.allclose(x, features)"
   ]
  },
  {
   "cell_type": "code",
   "execution_count": 20,
   "metadata": {},
   "outputs": [
    {
     "data": {
      "text/plain": [
       "array([[ 0.24819146,  0.44255477,  0.21971345, ..., -0.82917094,\n",
       "         0.6422112 , -0.34171584],\n",
       "       [ 0.33028018,  0.59127253,  0.05109643, ..., -0.9208793 ,\n",
       "         0.34089726,  0.14087634],\n",
       "       [ 0.36022195,  0.5476826 ,  0.09846118, ..., -0.8838565 ,\n",
       "         0.6854048 ,  0.08636171],\n",
       "       ...,\n",
       "       [ 0.34615216,  0.46468964,  0.5475895 , ..., -0.96336156,\n",
       "         0.12577799,  0.69522685],\n",
       "       [ 0.5200439 ,  0.1754095 ,  0.00397164, ..., -0.9997048 ,\n",
       "         0.5405179 ,  0.6940098 ],\n",
       "       [ 0.20879333,  0.5682233 ,  0.85809654, ..., -0.7753583 ,\n",
       "         0.5142238 ,  0.9371281 ]], dtype=float32)"
      ]
     },
     "execution_count": 20,
     "metadata": {},
     "output_type": "execute_result"
    }
   ],
   "source": [
    "features"
   ]
  },
  {
   "cell_type": "code",
   "execution_count": null,
   "metadata": {},
   "outputs": [],
   "source": []
  }
 ],
 "metadata": {
  "kernelspec": {
   "display_name": "Python 3.9.13 64-bit ('pytorch')",
   "language": "python",
   "name": "python3"
  },
  "language_info": {
   "codemirror_mode": {
    "name": "ipython",
    "version": 3
   },
   "file_extension": ".py",
   "mimetype": "text/x-python",
   "name": "python",
   "nbconvert_exporter": "python",
   "pygments_lexer": "ipython3",
   "version": "3.9.13"
  },
  "orig_nbformat": 4,
  "vscode": {
   "interpreter": {
    "hash": "3a45d12cefbb4eb47e9e064f36b2b4db7d2008418336a087ec401e0560aaf6a2"
   }
  }
 },
 "nbformat": 4,
 "nbformat_minor": 2
}
