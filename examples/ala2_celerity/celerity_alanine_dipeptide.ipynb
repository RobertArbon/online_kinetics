{
 "cells": [
  {
   "cell_type": "markdown",
   "metadata": {},
   "source": [
    "# Introduction \n",
    "\n",
    "This builds a basic VAMPnets model without the deeptime module. The resulting output will still be put in a deptime VAMP model to compare to the deeptime version. "
   ]
  },
  {
   "cell_type": "code",
   "execution_count": 14,
   "metadata": {},
   "outputs": [],
   "source": [
    "from copy import deepcopy\n",
    "from pathlib import Path\n",
    "\n",
    "import matplotlib.pyplot as plt\n",
    "import numpy as np\n",
    "import torch\n",
    "import torch.nn as nn\n",
    "from torch.utils.data import DataLoader\n",
    "from addict import Dict\n",
    "\n",
    "from deeptime.util.types import to_dataset\n",
    "from deeptime.decomposition import VAMP\n",
    "from deeptime.decomposition.deep import VAMPNet, vampnet_loss, VAMPNetModel"
   ]
  },
  {
   "cell_type": "markdown",
   "metadata": {},
   "source": [
    "## Functions"
   ]
  },
  {
   "cell_type": "code",
   "execution_count": 3,
   "metadata": {},
   "outputs": [],
   "source": [
    "def create_lobes(input_dim, device, output_dim): \n",
    "    lobe = nn.Sequential(\n",
    "        nn.BatchNorm1d(input_dim), \n",
    "        nn.Linear(input_dim, 30), nn.ELU(),\n",
    "        nn.Linear(30, 100), nn.ELU(),\n",
    "        nn.Linear(100, 100), nn.ELU(),\n",
    "        nn.Linear(100, 100), nn.ELU(),\n",
    "        nn.Linear(100, 100), nn.ELU(),\n",
    "        nn.Linear(100, 100), nn.ELU(),\n",
    "        nn.Linear(100, 100), nn.ELU(),\n",
    "        nn.Linear(100, 30), nn.ELU(),\n",
    "        nn.Linear(30, output_dim),\n",
    "        nn.Softmax(dim=1)  # obtain fuzzy probability distribution over output states\n",
    "    )\n",
    "    \n",
    "    lobe_timelagged = deepcopy(lobe).to(device=device)\n",
    "    lobe = lobe.to(device=device)\n",
    "    # lobes = Dict(\n",
    "    #     t_0 = lobe, \n",
    "    #     t_tau = lobe_timelagged\n",
    "    # )\n",
    "    return (lobe, lobe_timelagged)\n",
    "\n",
    "\n",
    "def deeptime_model(device, train_data, val_data, lobes, config):\n",
    "\n",
    "    estimator = VAMPNet(lobe=lobes[0], lobe_timelagged=lobes[1], \n",
    "                        learning_rate=config.lr, device=device, \n",
    "                        optimizer=config.optimizer, \n",
    "                        score_mode=config.score_mode, \n",
    "                        epsilon=config.score_eps)\n",
    "    loader_train = DataLoader(train_data, batch_size=10000, shuffle=True)\n",
    "    loader_val = DataLoader(val_data, batch_size=len(val_data), shuffle=False) \n",
    "    model = estimator.fit(loader_train, n_epochs=config.n_epochs,\n",
    "                    validation_loader=loader_val).fetch_model()\n",
    "    return estimator, model \n",
    "\n",
    "def its(model, config):\n",
    "    lagtimes = np.arange(1, 201, dtype=np.int32)\n",
    "    timescales = []\n",
    "    for lag in lagtimes:\n",
    "        ts = VAMP(lagtime=lag, observable_transform=model).fit(data).fetch_model().timescales(k=config.output_dim-1)\n",
    "        timescales.append(ts)\n",
    "    return lagtimes, timescales"
   ]
  },
  {
   "cell_type": "markdown",
   "metadata": {},
   "source": [
    "## Get GPU"
   ]
  },
  {
   "cell_type": "code",
   "execution_count": 4,
   "metadata": {},
   "outputs": [],
   "source": [
    "assert torch.cuda.is_available(), \"Need a GPU with CUDA\" \n",
    "torch.backends.cudnn.benchmark = True"
   ]
  },
  {
   "cell_type": "markdown",
   "metadata": {},
   "source": [
    "## Paths"
   ]
  },
  {
   "cell_type": "code",
   "execution_count": 5,
   "metadata": {},
   "outputs": [],
   "source": [
    "data_dir = \"/home/rob/online_vampnets/data\"\n",
    "coordinates_path = Path(data_dir).joinpath('alanine-dipeptide-3x250ns-heavy-atom-positions.npz')\n",
    "dihedrals_path = Path(data_dir).joinpath('alanine-dipeptide-3x250ns-backbone-dihedrals.npz')"
   ]
  },
  {
   "cell_type": "markdown",
   "metadata": {},
   "source": [
    "## Load data"
   ]
  },
  {
   "cell_type": "code",
   "execution_count": 6,
   "metadata": {},
   "outputs": [],
   "source": [
    "with np.load(coordinates_path.open('rb')) as fh:\n",
    "    data = [fh[f\"arr_{i}\"].astype(np.float32) for i in range(3)]\n",
    "\n",
    "with np.load(dihedrals_path.open('rb')) as fh:\n",
    "    dihedral = [fh[f\"arr_{i}\"] for i in range(3)]"
   ]
  },
  {
   "cell_type": "markdown",
   "metadata": {},
   "source": [
    "## Configuration"
   ]
  },
  {
   "cell_type": "code",
   "execution_count": 7,
   "metadata": {},
   "outputs": [],
   "source": [
    "config = Dict(lag_time = 1, \n",
    "              validation_split = 0.3, \n",
    "              input_dim = int(data[0].shape[1]), \n",
    "              output_dim = 6, \n",
    "              lr = 5e-4, \n",
    "              n_epochs = 30, \n",
    "              optimizer=torch.optim.Adam, \n",
    "              score_method='VAMP2', \n",
    "              score_mode='regularize', \n",
    "              score_eps=1e-6)"
   ]
  },
  {
   "cell_type": "code",
   "execution_count": 8,
   "metadata": {},
   "outputs": [],
   "source": [
    "dataset = to_dataset(data=data, lagtime=config.lag_time)\n",
    "n_val = int(len(dataset)*config.validation_split)\n",
    "train_data, val_data = torch.utils.data.random_split(dataset, [len(dataset) - n_val, n_val])"
   ]
  },
  {
   "cell_type": "markdown",
   "metadata": {},
   "source": [
    "## Deeptime model\n"
   ]
  },
  {
   "cell_type": "code",
   "execution_count": 12,
   "metadata": {},
   "outputs": [],
   "source": [
    "device = torch.device(\"cuda\")\n",
    "dt_lobes = create_lobes(config.input_dim, device, config.output_dim)\n",
    "dt_est, dt_mod = deeptime_model(device, train_data, val_data, dt_lobes, config)\n",
    "dt_its = its(dt_mod, config)"
   ]
  },
  {
   "cell_type": "markdown",
   "metadata": {},
   "source": [
    "## Celerity model\n"
   ]
  },
  {
   "cell_type": "code",
   "execution_count": 11,
   "metadata": {},
   "outputs": [
    {
     "name": "stdout",
     "output_type": "stream",
     "text": [
      "0, tensor(-3.6052, device='cuda:0')\n",
      "1, tensor(-3.7759, device='cuda:0')\n",
      "2, tensor(-4.4869, device='cuda:0')\n",
      "3, tensor(-4.5339, device='cuda:0')\n",
      "4, tensor(-4.5424, device='cuda:0')\n",
      "5, tensor(-4.5216, device='cuda:0')\n",
      "6, tensor(-4.5458, device='cuda:0')\n",
      "7, tensor(-4.5461, device='cuda:0')\n",
      "8, tensor(-4.5466, device='cuda:0')\n",
      "9, tensor(-4.5475, device='cuda:0')\n",
      "10, tensor(-4.5476, device='cuda:0')\n",
      "11, tensor(-4.5414, device='cuda:0')\n",
      "12, tensor(-4.5528, device='cuda:0')\n",
      "13, tensor(-4.5554, device='cuda:0')\n",
      "14, tensor(-4.5446, device='cuda:0')\n",
      "15, tensor(-4.5529, device='cuda:0')\n",
      "16, tensor(-4.5529, device='cuda:0')\n",
      "17, tensor(-4.5401, device='cuda:0')\n",
      "18, tensor(-4.5509, device='cuda:0')\n",
      "19, tensor(-4.5463, device='cuda:0')\n",
      "20, tensor(-4.5472, device='cuda:0')\n",
      "21, tensor(-4.5472, device='cuda:0')\n",
      "22, tensor(-4.5435, device='cuda:0')\n",
      "23, tensor(-4.5538, device='cuda:0')\n",
      "24, tensor(-4.5574, device='cuda:0')\n",
      "25, tensor(-4.5524, device='cuda:0')\n",
      "26, tensor(-4.5493, device='cuda:0')\n",
      "27, tensor(-4.5542, device='cuda:0')\n",
      "28, tensor(-4.5506, device='cuda:0')\n",
      "29, tensor(-4.5551, device='cuda:0')\n"
     ]
    }
   ],
   "source": [
    "# setup optimizer\n",
    "device = torch.device(\"cuda\")\n",
    "\n",
    "ct_lobes = create_lobes(config.input_dim, device, config.output_dim)\n",
    "\n",
    "all_params = list(ct_lobes[0].parameters()) + list(ct_lobes[1].parameters())\n",
    "optimizer = config.optimizer(params=list(set(all_params)), lr=config.lr)\n",
    "\n",
    "\n",
    "# create data loaders\n",
    "loader_train = DataLoader(train_data, batch_size=10000, shuffle=True)\n",
    "loader_val = DataLoader(val_data, batch_size=len(val_data), shuffle=False) \n",
    "\n",
    "# accumulators\n",
    "step = 0\n",
    "train_scores = []\n",
    "valid_scores = []\n",
    "\n",
    "# fit\n",
    "for epoch in range(config.n_epochs):\n",
    "    # train\n",
    "    print(epoch, end=', ')\n",
    "    for batch_t_0, batch_t_tau in loader_train: \n",
    "        # Set lobes to train mode (we use batch normalization)\n",
    "        ct_lobes[0].train()\n",
    "        ct_lobes[1].train()\n",
    "\n",
    "        # calculate loss\n",
    "        optimizer.zero_grad()\n",
    "        x_0 = ct_lobes[0](batch_t_0.to(device=device))\n",
    "        x_t = ct_lobes[1](batch_t_tau.to(device=device))\n",
    "        loss = vampnet_loss(x_0, x_t, method=config.score_method, \n",
    "                            epsilon=config.score_eps, mode=config.score_mode)\n",
    "        step += 1\n",
    "        train_scores.append([step, (-loss).item()])\n",
    "\n",
    "        # update parameters\n",
    "        loss.backward()\n",
    "        optimizer.step()\n",
    "        \n",
    "    # validate\n",
    "    scores = []\n",
    "    for i, (vbatch_t_0, vbatch_t_tau) in enumerate(loader_val):\n",
    "        ct_lobes[0].eval()\n",
    "        ct_lobes[1].eval()\n",
    "        with torch.no_grad():\n",
    "            val_0 = ct_lobes[0](vbatch_t_0.to(device=device))\n",
    "            val_t = ct_lobes[1](vbatch_t_tau.to(device=device))\n",
    "            val_loss = vampnet_loss(val_0,val_t, method=config.score_method, \n",
    "                        epsilon=config.score_eps, mode=config.score_mode)\n",
    "            scores.append(val_loss)\n",
    "            print(val_loss)\n",
    "        mean_score = torch.mean(torch.stack(scores)).item()\n",
    "    valid_scores.append([step, mean_score])"
   ]
  },
  {
   "cell_type": "code",
   "execution_count": 15,
   "metadata": {},
   "outputs": [],
   "source": [
    "ct_mod = VAMPNetModel(ct_lobes[0], ct_lobes[1], device=device)\n",
    "ct_its = its(ct_mod, config)"
   ]
  },
  {
   "cell_type": "code",
   "execution_count": 35,
   "metadata": {},
   "outputs": [
    {
     "data": {
      "text/plain": [
       "array([[1.00000000e+00, 1.09553087e+00],\n",
       "       [2.00000000e+00, 1.63628221e+00],\n",
       "       [3.00000000e+00, 1.90539813e+00],\n",
       "       ...,\n",
       "       [1.58800000e+03, 4.60616302e+00],\n",
       "       [1.58900000e+03, 4.63229799e+00],\n",
       "       [1.59000000e+03, 4.59733772e+00]])"
      ]
     },
     "execution_count": 35,
     "metadata": {},
     "output_type": "execute_result"
    }
   ],
   "source": [
    "valid_scores = np.array(valid_scores)\n",
    "train_scores = np.array(train_scores)"
   ]
  },
  {
   "cell_type": "markdown",
   "metadata": {},
   "source": [
    "# Deeptime vs Celerity"
   ]
  },
  {
   "cell_type": "code",
   "execution_count": 45,
   "metadata": {},
   "outputs": [
    {
     "data": {
      "image/png": "[encoded data removed]",
      "text/plain": [
       "<Figure size 432x288 with 1 Axes>"
      ]
     },
     "metadata": {
      "needs_background": "light"
     },
     "output_type": "display_data"
    }
   ],
   "source": [
    "# plt.loglog(*dt_est.train_scores.T, label='DT: training', alpha=0.5)\n",
    "# plt.loglog(*dt_est.validation_scores.T, label='DT: validation', alpha=0.5)\n",
    "plt.plot(valid_scores[:, 0], valid_scores[:, 1], label='C: validation',lw=1)\n",
    "plt.plot(train_scores[:, 0], -train_scores[:, 1], label='C: training',lw=1)\n",
    "plt.xlabel('step')\n",
    "plt.ylabel('score')\n",
    "plt.xscale('log')\n",
    "plt.legend();\n",
    "\n"
   ]
  },
  {
   "cell_type": "code",
   "execution_count": 61,
   "metadata": {},
   "outputs": [
    {
     "data": {
      "image/png": "[encoded data removed]",
      "text/plain": [
       "<Figure size 432x288 with 3 Axes>"
      ]
     },
     "metadata": {
      "needs_background": "light"
     },
     "output_type": "display_data"
    }
   ],
   "source": [
    "f, axes = plt.subplots(1, 3)\n",
    "itss = [dt_its, ct_its]\n",
    "for i in range(2):\n",
    "    ax = axes[i]\n",
    "    its = itss[i]\n",
    "    ax.semilogy(its[0], its[1])\n",
    "    ax.set_xlabel('lagtime')\n",
    "    ax.set_ylabel('timescale / step')\n",
    "    ax.fill_between(its[0], ax.get_ylim()[0]*np.ones(len(its[1])), its[0], alpha=0.5, color='grey')\n",
    "\n",
    "axes[-1].plot(itss[0][0], np.array(itss[0][1])/np.array(itss[1][1]))\n",
    "axes[-1].set_ylim()\n",
    "plt.tight_layout()"
   ]
  },
  {
   "cell_type": "code",
   "execution_count": null,
   "metadata": {},
   "outputs": [],
   "source": [
    "# vamp_estimator = VAMP(lagtime=1, observable_transform=model)\n",
    "# vamp = vamp_estimator.fit(data).fetch_model()\n",
    "\n",
    "# validator = vamp_estimator.chapman_kolmogorov_validator(mlags=20)\n",
    "# cktest = validator.fit(data, n_jobs=1).fetch_model()"
   ]
  },
  {
   "cell_type": "code",
   "execution_count": null,
   "metadata": {},
   "outputs": [],
   "source": [
    "# n_states = len(vamp.singular_values)\n",
    "\n",
    "# tau = cktest.lagtimes[1]\n",
    "# steps = len(cktest.lagtimes)\n",
    "# fig, ax = plt.subplots(n_states, n_states, sharex=True, sharey=True, constrained_layout=True)\n",
    "# for i in range(n_states):\n",
    "#     for j in range(n_states):\n",
    "#         pred = ax[i][j].plot(cktest.lagtimes, cktest.predictions[:, i, j], color='b')\n",
    "#         est = ax[i][j].plot(cktest.lagtimes, cktest.estimates[:, i, j], color='r', linestyle='--')\n",
    "#         ax[i][j].set_title(str(i+1)+ '->' +str(j+1),\n",
    "#                                        fontsize='small')\n",
    "# ax[0][0].set_ylim((-0.1,1.1));\n",
    "# ax[0][0].set_xlim((0, steps*tau));\n",
    "# ax[0][0].axes.get_xaxis().set_ticks(np.round(np.linspace(0, steps*tau, 3)));\n",
    "# fig.legend([pred[0], est[0]], [\"Predictions\", \"Estimates\"], 'lower center', ncol=2,\n",
    "#            bbox_to_anchor=(0.5, -0.1));"
   ]
  },
  {
   "cell_type": "code",
   "execution_count": null,
   "metadata": {},
   "outputs": [],
   "source": []
  }
 ],
 "metadata": {
  "interpreter": {
   "hash": "3eacd8f2db37fa5d58d3aef6e91a7661ea9a1f58457e640ff55bee11cd0af5d0"
  },
  "kernelspec": {
   "display_name": "Python 3.9.0 64-bit ('vampnets': conda)",
   "language": "python",
   "name": "python3"
  },
  "language_info": {
   "codemirror_mode": {
    "name": "ipython",
    "version": 3
   },
   "file_extension": ".py",
   "mimetype": "text/x-python",
   "name": "python",
   "nbconvert_exporter": "python",
   "pygments_lexer": "ipython3",
   "version": "3.9.0"
  },
  "orig_nbformat": 4
 },
 "nbformat": 4,
 "nbformat_minor": 2
}
