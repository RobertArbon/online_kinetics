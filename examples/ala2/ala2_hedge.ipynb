{
 "cells": [
  {
   "cell_type": "markdown",
   "metadata": {},
   "source": [
    "# Introduction \n",
    "\n",
    "This builds a basic VAMPnets model without the deeptime module. The resulting output will still be put in a deptime VAMP model to compare to the deeptime version. "
   ]
  },
  {
   "cell_type": "code",
   "execution_count": 2,
   "metadata": {},
   "outputs": [],
   "source": [
    "from copy import deepcopy\n",
    "from pathlib import Path\n",
    "from typing import List, Tuple\n",
    "\n",
    "import matplotlib.pyplot as plt\n",
    "import numpy as np\n",
    "import torch\n",
    "import torch.nn as nn\n",
    "from torch.utils.data import DataLoader\n",
    "from torch.nn.parameter import Parameter\n",
    "import torch.nn.functional as F\n",
    "\n",
    "\n",
    "from addict import Dict\n",
    "\n",
    "from deeptime.util.types import to_dataset\n",
    "from deeptime.decomposition import VAMP\n",
    "from deeptime.decomposition.deep import VAMPNet, vampnet_loss, VAMPNetModel"
   ]
  },
  {
   "cell_type": "markdown",
   "metadata": {},
   "source": [
    "## Functions"
   ]
  },
  {
   "cell_type": "code",
   "execution_count": 3,
   "metadata": {},
   "outputs": [],
   "source": [
    "assert torch.cuda.is_available(), \"Need a GPU with CUDA\" \n",
    "torch.backends.cudnn.benchmark = True"
   ]
  },
  {
   "cell_type": "code",
   "execution_count": 4,
   "metadata": {},
   "outputs": [],
   "source": [
    "data_dir = \"/home/rob/online_vampnets/data\"\n",
    "coordinates_path = Path(data_dir).joinpath('alanine-dipeptide-3x250ns-heavy-atom-positions.npz')\n",
    "dihedrals_path = Path(data_dir).joinpath('alanine-dipeptide-3x250ns-backbone-dihedrals.npz')"
   ]
  },
  {
   "cell_type": "code",
   "execution_count": 5,
   "metadata": {},
   "outputs": [],
   "source": [
    "with np.load(coordinates_path.open('rb')) as fh:\n",
    "    data = [fh[f\"arr_{i}\"].astype(np.float32) for i in range(3)]\n",
    "\n",
    "with np.load(dihedrals_path.open('rb')) as fh:\n",
    "    dihedral = [fh[f\"arr_{i}\"] for i in range(3)]\n",
    "\n",
    "dataset = to_dataset(data=data, lagtime=1)\n"
   ]
  },
  {
   "cell_type": "code",
   "execution_count": 80,
   "metadata": {},
   "outputs": [],
   "source": [
    "# def create_lobes(input_dim, device, output_dim): \n",
    "#     lobe = nn.Sequential(\n",
    "#         nn.BatchNorm1d(input_dim), \n",
    "#         nn.Linear(input_dim, 30), nn.ELU(),\n",
    "#         nn.Linear(30, 100), nn.ELU(),\n",
    "#         nn.Linear(100, 100), nn.ELU(),\n",
    "#         nn.Linear(100, 100), nn.ELU(),\n",
    "#         nn.Linear(100, 100), nn.ELU(),\n",
    "#         nn.Linear(100, 100), nn.ELU(),\n",
    "#         nn.Linear(100, 100), nn.ELU(),\n",
    "#         nn.Linear(100, 30), nn.ELU(),\n",
    "#         nn.Linear(30, output_dim),\n",
    "#         nn.Softmax(dim=1)  # obtain fuzzy probability distribution over output states\n",
    "#     )\n",
    "    \n",
    "#     lobe_timelagged = lobe.to(device=device)\n",
    "#     lobe = lobe.to(device=device)\n",
    "#     return (lobe, lobe_timelagged)\n",
    "\n",
    "\n",
    "# def deeptime_model(device, train_data, val_data, lobes, config):\n",
    "\n",
    "#     estimator = VAMPNet(lobe=lobes[0], lobe_timelagged=lobes[1], \n",
    "#                         learning_rate=config.lr, device=device, \n",
    "#                         optimizer=config.optimizer, \n",
    "#                         score_mode=config.score_mode, \n",
    "#                         epsilon=config.score_eps)\n",
    "#     loader_train = DataLoader(train_data, batch_size=10000, shuffle=True)\n",
    "#     loader_val = DataLoader(val_data, batch_size=len(val_data), shuffle=False) \n",
    "#     model = estimator.fit(loader_train, n_epochs=config.n_epochs,\n",
    "#                     validation_loader=loader_val).fetch_model()\n",
    "#     return estimator, model \n",
    "\n",
    "# def its(model, config):\n",
    "#     lagtimes = np.arange(1, 201, dtype=np.int32)\n",
    "#     timescales = []\n",
    "#     for lag in lagtimes:\n",
    "#         ts = VAMP(lagtime=lag, observable_transform=model).fit(data).fetch_model().timescales(k=config.output_dim-1)\n",
    "#         timescales.append(ts)\n",
    "#     return lagtimes, timescales\n",
    "\n",
    "\n",
    "class CelerityVAMPNet(nn.Module):\n",
    "    def __init__(self, \n",
    "                input_dim: int, \n",
    "                output_dim: int, \n",
    "                n_hidden_layers: int, \n",
    "                hidden_layer_width: int,\n",
    "                use_cuda: bool = True, \n",
    "                batch_size: int = 2, \n",
    "                b: float = 0.99, \n",
    "                n: float = 0.01, # Weight update learning rate \n",
    "                s: float = 0.1\n",
    "                ):\n",
    "        super(CelerityVAMPNet, self).__init__()\n",
    "\n",
    "        # Setup device\n",
    "        if torch.cuda.is_available() and use_cuda:\n",
    "            print(\"Using CUDA :]\")\n",
    "\n",
    "        self.device = torch.device(\n",
    "            \"cuda:0\" if torch.cuda.is_available() and use_cuda else \"cpu\")\n",
    "\n",
    "        self.input_dim = input_dim\n",
    "        self.output_dim = output_dim\n",
    "        self.batch_size = batch_size\n",
    "        assert self.batch_size > 1, \"Covariance estimators need two samples at least\"\n",
    "        # Setup layers\n",
    "        hidden_layers = []\n",
    "        output_layers = []\n",
    "        self.n_hidden_layers = n_hidden_layers\n",
    "        hidden_layers.append(nn.Linear(input_dim, hidden_layer_width))\n",
    "        for i in range(n_hidden_layers-1): \n",
    "            hidden_layers.append(\n",
    "                nn.Linear(hidden_layer_width, hidden_layer_width)\n",
    "            )\n",
    "        for i in range(n_hidden_layers): \n",
    "            output_layers.append(nn.Linear(hidden_layer_width, output_dim)) \n",
    "\n",
    "        self.hidden_t_0 = nn.ModuleList(hidden_layers).to(self.device)\n",
    "        self.output_t_0 = nn.ModuleList(output_layers).to(self.device)\n",
    "        \n",
    "\n",
    "        # Other training parameters\n",
    "        self.b = Parameter(torch.tensor(\n",
    "            b), requires_grad=False).to(self.device)\n",
    "        self.n = Parameter(torch.tensor(\n",
    "            n), requires_grad=False).to(self.device)\n",
    "        self.s = Parameter(torch.tensor(\n",
    "            s), requires_grad=False).to(self.device)\n",
    "\n",
    "        self.alpha = Parameter(torch.Tensor(self.n_hidden_layers).fill_(1 / (self.n_hidden_layers + 1)),\n",
    "                               requires_grad=False).to(\n",
    "            self.device)\n",
    "\n",
    "        # Output accumulators\n",
    "        self.loss_array = []\n",
    "        self.alpha_array = []\n",
    "\n",
    "    def partial_forward(self, hidden_module: nn.Module, output_module: nn.Module, x: np.ndarray) -> List[torch.Tensor]: \n",
    "        hidden_connections = []\n",
    "        X = torch.from_numpy(x).float().to(self.device)\n",
    "        X = torch.reshape(X, (self.batch_size, -1))\n",
    "        \n",
    "        # push forward through main network\n",
    "        hidden_connections.append(F.elu(hidden_module[0](X)))\n",
    "        for i in range(1, self.n_hidden_layers): \n",
    "            hidden_connections.append(F.elu(hidden_connections[i-1]))\n",
    "\n",
    "        # push through outputs\n",
    "        predictions_per_layer = []\n",
    "        for i in range(self.n_hidden_layers): \n",
    "            tmp = output_module[i](hidden_connections[i])\n",
    "            predictions_per_layer.append(F.softmax(tmp, dim=1))\n",
    "        return predictions_per_layer \n",
    "\n",
    "    def zero_grad(self):\n",
    "\n",
    "        for i in range(self.n_hidden_layers):\n",
    "            # print('zeroing layer: ', i)\n",
    "            self.hidden_t_0[i].zero_grad()\n",
    "            self.output_t_0[i].zero_grad()\n",
    "\n",
    "            # print(\"\\t\", self.hidden_t_0[i].weight.grad) #.data.fill_(0)\n",
    "            # print(\"\\t\", self.hidden_t_0[i].bias.grad) #.data.fill_(0)\n",
    "            # print(\"\\t\", self.output_t_0[i].weight.grad) #.data.fill_(0)\n",
    "            # print(\"\\t\", self.output_t_0[i].bias.grad) #.data.fill_(0)\n",
    "\n",
    "    def forward(self, x: Tuple[np.ndarray]) -> Tuple[List[torch.Tensor]]:\n",
    "        x_0, x_tau = x[0], x[1]\n",
    "        pred_0_per_layer = self.partial_forward(self.hidden_t_0, self.output_t_0, x_0)\n",
    "        pred_tau_per_layer = self.partial_forward(self.hidden_t_0, self.output_t_0, x_tau)\n",
    "        return (pred_0_per_layer, pred_tau_per_layer)\n",
    "\n",
    "    def update_weights(self, X): \n",
    "        predictions_per_layer = self.forward(X)\n",
    "        losses_per_layer = []\n",
    "   \n",
    "        for pred_0, pred_tau in zip(*predictions_per_layer):\n",
    "            print(torch.sum(pred_0))\n",
    "            loss = vampnet_loss(pred_0, pred_tau, method='VAMP2', epsilon=1e-6, mode='regularize') \n",
    "            losses_per_layer.append(loss)\n",
    "\n",
    "        w = [None] * len(losses_per_layer)\n",
    "        b = [None] * len(losses_per_layer)\n",
    "        \n",
    "        with torch.no_grad():   \n",
    "            for i in range(len(losses_per_layer)):\n",
    "\n",
    "                print('updated layer = ', i)\n",
    "                losses_per_layer[i].backward(retain_graph=True)             \n",
    "                self.output_t_0[i].weight.data -= self.n * \\\n",
    "                                                   self.alpha[i] * self.output_t_0[i].weight.grad.data\n",
    "                self.output_t_0[i].bias.data -= self.n * \\\n",
    "                                                 self.alpha[i] * self.output_t_0[i].bias.grad.data\n",
    "                for k in range(self.n_hidden_layers):\n",
    "                    print('checking gradients ', k, ' = ',  torch.sum(self.hidden_t_0[k].weight.grad))\n",
    "\n",
    "                for j in range(i + 1):\n",
    "                    if w[j] is None:\n",
    "                        w[j] = self.alpha[i] * self.hidden_t_0[j].weight.grad.data\n",
    "                        b[j] = self.alpha[i] * self.hidden_t_0[j].bias.grad.data\n",
    "                    else:\n",
    "                        w[j] += self.alpha[i] * self.hidden_t_0[j].weight.grad.data\n",
    "                        b[j] += self.alpha[i] * self.hidden_t_0[j].bias.grad.data\n",
    "\n",
    "                self.zero_grad()\n",
    "\n",
    "            for i in range(len(losses_per_layer)):\n",
    "                self.hidden_t_0[i].weight.data -= self.n * w[i]\n",
    "                self.hidden_t_0[i].bias.data -= self.n * b[i]\n",
    "\n",
    "            for i in range(len(losses_per_layer)):\n",
    "                self.alpha[i] *= torch.pow(self.b, losses_per_layer[i])\n",
    "                self.alpha[i] = torch.max(\n",
    "                    self.alpha[i], self.s / self.n_hidden_layers)\n",
    "        \n",
    "        z_t = torch.sum(self.alpha)\n",
    "        self.alpha = Parameter(\n",
    "            self.alpha / z_t, requires_grad=False).to(self.device)\n",
    "\n",
    "    def partial_fit(self, X): \n",
    "        self.update_weights(X)\n",
    "        \n",
    "\n",
    "def score_batch(device, model, x, config):\n",
    "    x0, xt = x[0].to(device), x[1].to(device)\n",
    "    output = model((x0, xt))\n",
    "    loss = vampnet_loss(output[0], output[1], method=config.score_method, \n",
    "                        epsilon=config.score_eps, mode=config.score_mode)\n",
    "    return loss\n",
    "\n",
    "def train_batch(device, model, optimizer, x, config):\n",
    "    optimizer.zero_grad()\n",
    "    loss = score_batch(device, model, x, config)\n",
    "    loss.backward()\n",
    "    optimizer.step()\n",
    "    return loss\n",
    "\n",
    "def train_epoch(device, model, optimizer, data_loader, config, step=0):\n",
    "    scores = []\n",
    "    model.train()\n",
    "    for batch_t_0, batch_t_tau in data_loader: \n",
    "        loss = train_batch(device, model, optimizer, (batch_t_0, batch_t_tau), config)\n",
    "        step += 1\n",
    "        scores.append((step, -loss.item()))\n",
    "    return scores\n",
    "\n",
    "def validate(device, model, data_loader, config, step): \n",
    "    model.eval()\n",
    "    losses = []\n",
    "    for i, (vbatch_t_0, vbatch_t_tau) in enumerate(data_loader):\n",
    "        with torch.no_grad():\n",
    "            val_loss = score_batch(device, model, (vbatch_t_0, vbatch_t_tau), config)\n",
    "            losses.append(val_loss)\n",
    "        mean_score = -torch.mean(torch.stack(losses)).item()   \n",
    "    return [(step, mean_score)]"
   ]
  },
  {
   "cell_type": "code",
   "execution_count": 81,
   "metadata": {},
   "outputs": [
    {
     "name": "stdout",
     "output_type": "stream",
     "text": [
      "Using CUDA :]\n",
      "tensor(100., device='cuda:0', grad_fn=<SumBackward0>)\n",
      "tensor(100., device='cuda:0', grad_fn=<SumBackward0>)\n",
      "tensor(100., device='cuda:0', grad_fn=<SumBackward0>)\n",
      "tensor(100., device='cuda:0', grad_fn=<SumBackward0>)\n",
      "tensor(100., device='cuda:0', grad_fn=<SumBackward0>)\n",
      "updated layer =  0\n",
      "checking gradients  0  =  tensor(0.4672, device='cuda:0')\n"
     ]
    },
    {
     "ename": "TypeError",
     "evalue": "sum(): argument 'input' (position 1) must be Tensor, not NoneType",
     "output_type": "error",
     "traceback": [
      "\u001b[0;31m---------------------------------------------------------------------------\u001b[0m",
      "\u001b[0;31mTypeError\u001b[0m                                 Traceback (most recent call last)",
      "\u001b[0;32m/tmp/ipykernel_556/1969779136.py\u001b[0m in \u001b[0;36m<module>\u001b[0;34m\u001b[0m\n\u001b[1;32m      4\u001b[0m                         batch_size=100)\n\u001b[1;32m      5\u001b[0m \u001b[0;34m\u001b[0m\u001b[0m\n\u001b[0;32m----> 6\u001b[0;31m \u001b[0mmodel\u001b[0m\u001b[0;34m.\u001b[0m\u001b[0mpartial_fit\u001b[0m\u001b[0;34m(\u001b[0m\u001b[0;34m(\u001b[0m\u001b[0mdata\u001b[0m\u001b[0;34m[\u001b[0m\u001b[0;36m0\u001b[0m\u001b[0;34m]\u001b[0m\u001b[0;34m[\u001b[0m\u001b[0;34m:\u001b[0m\u001b[0;36m100\u001b[0m\u001b[0;34m]\u001b[0m\u001b[0;34m,\u001b[0m \u001b[0mdata\u001b[0m\u001b[0;34m[\u001b[0m\u001b[0;36m0\u001b[0m\u001b[0;34m]\u001b[0m\u001b[0;34m[\u001b[0m\u001b[0;36m1\u001b[0m\u001b[0;34m:\u001b[0m\u001b[0;36m101\u001b[0m\u001b[0;34m]\u001b[0m\u001b[0;34m)\u001b[0m\u001b[0;34m)\u001b[0m\u001b[0;34m\u001b[0m\u001b[0;34m\u001b[0m\u001b[0m\n\u001b[0m",
      "\u001b[0;32m/tmp/ipykernel_556/1477065454.py\u001b[0m in \u001b[0;36mpartial_fit\u001b[0;34m(self, X)\u001b[0m\n\u001b[1;32m    181\u001b[0m \u001b[0;34m\u001b[0m\u001b[0m\n\u001b[1;32m    182\u001b[0m     \u001b[0;32mdef\u001b[0m \u001b[0mpartial_fit\u001b[0m\u001b[0;34m(\u001b[0m\u001b[0mself\u001b[0m\u001b[0;34m,\u001b[0m \u001b[0mX\u001b[0m\u001b[0;34m)\u001b[0m\u001b[0;34m:\u001b[0m\u001b[0;34m\u001b[0m\u001b[0;34m\u001b[0m\u001b[0m\n\u001b[0;32m--> 183\u001b[0;31m         \u001b[0mself\u001b[0m\u001b[0;34m.\u001b[0m\u001b[0mupdate_weights\u001b[0m\u001b[0;34m(\u001b[0m\u001b[0mX\u001b[0m\u001b[0;34m)\u001b[0m\u001b[0;34m\u001b[0m\u001b[0;34m\u001b[0m\u001b[0m\n\u001b[0m\u001b[1;32m    184\u001b[0m \u001b[0;34m\u001b[0m\u001b[0m\n\u001b[1;32m    185\u001b[0m \u001b[0;34m\u001b[0m\u001b[0m\n",
      "\u001b[0;32m/tmp/ipykernel_556/1477065454.py\u001b[0m in \u001b[0;36mupdate_weights\u001b[0;34m(self, X)\u001b[0m\n\u001b[1;32m    155\u001b[0m                                                  \u001b[0mself\u001b[0m\u001b[0;34m.\u001b[0m\u001b[0malpha\u001b[0m\u001b[0;34m[\u001b[0m\u001b[0mi\u001b[0m\u001b[0;34m]\u001b[0m \u001b[0;34m*\u001b[0m \u001b[0mself\u001b[0m\u001b[0;34m.\u001b[0m\u001b[0moutput_t_0\u001b[0m\u001b[0;34m[\u001b[0m\u001b[0mi\u001b[0m\u001b[0;34m]\u001b[0m\u001b[0;34m.\u001b[0m\u001b[0mbias\u001b[0m\u001b[0;34m.\u001b[0m\u001b[0mgrad\u001b[0m\u001b[0;34m.\u001b[0m\u001b[0mdata\u001b[0m\u001b[0;34m\u001b[0m\u001b[0;34m\u001b[0m\u001b[0m\n\u001b[1;32m    156\u001b[0m                 \u001b[0;32mfor\u001b[0m \u001b[0mk\u001b[0m \u001b[0;32min\u001b[0m \u001b[0mrange\u001b[0m\u001b[0;34m(\u001b[0m\u001b[0mself\u001b[0m\u001b[0;34m.\u001b[0m\u001b[0mn_hidden_layers\u001b[0m\u001b[0;34m)\u001b[0m\u001b[0;34m:\u001b[0m\u001b[0;34m\u001b[0m\u001b[0;34m\u001b[0m\u001b[0m\n\u001b[0;32m--> 157\u001b[0;31m                     \u001b[0mprint\u001b[0m\u001b[0;34m(\u001b[0m\u001b[0;34m'checking gradients '\u001b[0m\u001b[0;34m,\u001b[0m \u001b[0mk\u001b[0m\u001b[0;34m,\u001b[0m \u001b[0;34m' = '\u001b[0m\u001b[0;34m,\u001b[0m  \u001b[0mtorch\u001b[0m\u001b[0;34m.\u001b[0m\u001b[0msum\u001b[0m\u001b[0;34m(\u001b[0m\u001b[0mself\u001b[0m\u001b[0;34m.\u001b[0m\u001b[0mhidden_t_0\u001b[0m\u001b[0;34m[\u001b[0m\u001b[0mk\u001b[0m\u001b[0;34m]\u001b[0m\u001b[0;34m.\u001b[0m\u001b[0mweight\u001b[0m\u001b[0;34m.\u001b[0m\u001b[0mgrad\u001b[0m\u001b[0;34m)\u001b[0m\u001b[0;34m)\u001b[0m\u001b[0;34m\u001b[0m\u001b[0;34m\u001b[0m\u001b[0m\n\u001b[0m\u001b[1;32m    158\u001b[0m \u001b[0;34m\u001b[0m\u001b[0m\n\u001b[1;32m    159\u001b[0m                 \u001b[0;32mfor\u001b[0m \u001b[0mj\u001b[0m \u001b[0;32min\u001b[0m \u001b[0mrange\u001b[0m\u001b[0;34m(\u001b[0m\u001b[0mi\u001b[0m \u001b[0;34m+\u001b[0m \u001b[0;36m1\u001b[0m\u001b[0;34m)\u001b[0m\u001b[0;34m:\u001b[0m\u001b[0;34m\u001b[0m\u001b[0;34m\u001b[0m\u001b[0m\n",
      "\u001b[0;31mTypeError\u001b[0m: sum(): argument 'input' (position 1) must be Tensor, not NoneType"
     ]
    }
   ],
   "source": [
    "model = CelerityVAMPNet(input_dim=30, output_dim=6, \n",
    "                        n_hidden_layers=5, \n",
    "                        hidden_layer_width=100, \n",
    "                        batch_size=100)\n",
    "\n",
    "model.partial_fit((data[0][:100], data[0][1:101]))        \n"
   ]
  },
  {
   "cell_type": "markdown",
   "metadata": {},
   "source": [
    "## Load data"
   ]
  },
  {
   "cell_type": "code",
   "execution_count": 5,
   "metadata": {},
   "outputs": [],
   "source": []
  },
  {
   "cell_type": "markdown",
   "metadata": {},
   "source": [
    "## Configuration"
   ]
  },
  {
   "cell_type": "code",
   "execution_count": 6,
   "metadata": {},
   "outputs": [],
   "source": [
    "config = Dict(lag_time = 1, \n",
    "              validation_split = 0.3, \n",
    "              input_dim = int(data[0].shape[1]), \n",
    "              output_dim = 6, \n",
    "              lr = 5e-4, \n",
    "              n_epochs = 1, \n",
    "              optimizer=torch.optim.Adam, \n",
    "              score_method='VAMP2', \n",
    "              score_mode='regularize', \n",
    "              score_eps=1e-6)"
   ]
  },
  {
   "cell_type": "markdown",
   "metadata": {},
   "source": [
    "## Split data"
   ]
  },
  {
   "cell_type": "code",
   "execution_count": 7,
   "metadata": {},
   "outputs": [],
   "source": [
    "n_val = int(len(dataset)*config.validation_split)\n",
    "train_data, val_data = torch.utils.data.random_split(dataset, [len(dataset) - n_val, n_val])"
   ]
  },
  {
   "cell_type": "markdown",
   "metadata": {},
   "source": [
    "## Train model"
   ]
  },
  {
   "cell_type": "code",
   "execution_count": 54,
   "metadata": {},
   "outputs": [
    {
     "name": "stdout",
     "output_type": "stream",
     "text": [
      "0, 1, 2, 3, 4, 5, 6, 7, 8, 9, 10, 11, 12, 13, 14, 15, 16, 17, 18, 19, 20, 21, 22, 23, 24, 25, 26, 27, 28, 29, "
     ]
    }
   ],
   "source": [
    "\n",
    "# Setup model\n",
    "device = torch.device(\"cuda\")\n",
    "model = CelerityVAMPNet(input_dim=config.input_dim, output_dim=config.output_dim, stationary=True)\n",
    "model = model.to(device)\n",
    "\n",
    "# Optimizer\n",
    "optimizer = config.optimizer(model.parameters(), lr=config.lr)\n",
    "\n",
    "# create data loaders\n",
    "loader_train = DataLoader(train_data, batch_size=10000, shuffle=True)\n",
    "loader_val = DataLoader(val_data, batch_size=len(val_data), shuffle=False) \n",
    "\n",
    "# accumulators\n",
    "init_step = 0\n",
    "train_scores = []\n",
    "valid_scores = []\n",
    "\n",
    "# fit\n",
    "for epoch in range(config.n_epochs):\n",
    "    print(epoch, end=', ')\n",
    "    train_scores.extend(train_epoch(device, model, optimizer, loader_train, config, init_step))\n",
    "    init_step = train_scores[-1][0]\n",
    "\n",
    "    valid_scores.extend(validate(device, model, loader_val, config, init_step))\n",
    "\n",
    "train_scores = np.array(train_scores)\n",
    "valid_scores = np.array(valid_scores)"
   ]
  },
  {
   "cell_type": "code",
   "execution_count": null,
   "metadata": {},
   "outputs": [],
   "source": []
  },
  {
   "cell_type": "code",
   "execution_count": 56,
   "metadata": {},
   "outputs": [
    {
     "data": {
      "image/png": "[encoded data removed]",
      "text/plain": [
       "<Figure size 432x288 with 1 Axes>"
      ]
     },
     "metadata": {
      "needs_background": "light"
     },
     "output_type": "display_data"
    }
   ],
   "source": [
    "plt.plot(valid_scores[:, 0], valid_scores[:, 1], label='C: validation',lw=1)\n",
    "plt.plot(train_scores[:, 0], train_scores[:, 1], label='C: training',lw=1)\n",
    "plt.xlabel('step')\n",
    "plt.ylabel('score')\n",
    "plt.xscale('log')\n",
    "plt.legend();\n",
    "\n"
   ]
  },
  {
   "cell_type": "code",
   "execution_count": 57,
   "metadata": {},
   "outputs": [],
   "source": [
    "ct_mod = VAMPNetModel(model.t_0, model.t_tau, device=device)\n",
    "ct_its = its(ct_mod, config)\n",
    "dt_its = its(dt_mod, config)"
   ]
  },
  {
   "cell_type": "code",
   "execution_count": 58,
   "metadata": {},
   "outputs": [
    {
     "data": {
      "image/png": "[encoded data removed]",
      "text/plain": [
       "<Figure size 432x288 with 3 Axes>"
      ]
     },
     "metadata": {
      "needs_background": "light"
     },
     "output_type": "display_data"
    }
   ],
   "source": [
    "f, axes = plt.subplots(1, 3)\n",
    "itss = [dt_its, ct_its]\n",
    "for i in range(2):\n",
    "    ax = axes[i]\n",
    "    its = itss[i]\n",
    "    ax.semilogy(its[0], its[1])\n",
    "    ax.set_xlabel('lagtime')\n",
    "    ax.set_ylabel('timescale / step')\n",
    "    ax.fill_between(its[0], ax.get_ylim()[0]*np.ones(len(its[1])), its[0], alpha=0.5, color='grey')\n",
    "\n",
    "axes[-1].plot(itss[0][0], np.array(itss[0][1])/np.array(itss[1][1]))\n",
    "axes[-1].set_ylim()\n",
    "plt.tight_layout()"
   ]
  },
  {
   "cell_type": "code",
   "execution_count": null,
   "metadata": {},
   "outputs": [],
   "source": []
  }
 ],
 "metadata": {
  "interpreter": {
   "hash": "3eacd8f2db37fa5d58d3aef6e91a7661ea9a1f58457e640ff55bee11cd0af5d0"
  },
  "kernelspec": {
   "display_name": "Python 3.9.0 64-bit ('vampnets': conda)",
   "language": "python",
   "name": "python3"
  },
  "language_info": {
   "codemirror_mode": {
    "name": "ipython",
    "version": 3
   },
   "file_extension": ".py",
   "mimetype": "text/x-python",
   "name": "python",
   "nbconvert_exporter": "python",
   "pygments_lexer": "ipython3",
   "version": "3.9.0"
  },
  "orig_nbformat": 4
 },
 "nbformat": 4,
 "nbformat_minor": 2
}
